{
 "cells": [
  {
   "cell_type": "markdown",
   "metadata": {},
   "source": [
    "### Run notebook to train a model and save the results to a .dat file\n",
    "\n",
    "In the 3rd code cell, uncomment one of code sections for the model you want to output"
   ]
  },
  {
   "cell_type": "code",
   "execution_count": 16,
   "metadata": {},
   "outputs": [],
   "source": [
    "import pandas as pd\n",
    "import numpy as np\n",
    "\n",
    "pd.options.display.max_rows = 50\n",
    "pd.options.display.max_columns = 50\n",
    "\n",
    "from IPython.core.interactiveshell import InteractiveShell\n",
    "InteractiveShell.ast_node_interactivity = \"all\"\n",
    "\n",
    "from sklearn.preprocessing import LabelEncoder\n",
    "from sklearn.metrics import confusion_matrix\n",
    "from sklearn.metrics import classification_report\n",
    "from sklearn.model_selection import StratifiedKFold\n",
    "from sklearn.model_selection import train_test_split\n",
    "\n",
    "from imblearn.over_sampling import SMOTENC\n",
    "\n",
    "import xgboost as xgb\n",
    "from xgboost.sklearn import XGBClassifier\n",
    "\n",
    "import pickle \n",
    "\n",
    "import matplotlib.pyplot as plt\n",
    "%matplotlib inline"
   ]
  },
  {
   "cell_type": "code",
   "execution_count": 17,
   "metadata": {},
   "outputs": [],
   "source": [
    "df = pd.read_csv('Data Set for Data Science Project.csv')\n",
    "\n",
    "# convert the genre ratings in labels from 0 to 4\n",
    "le = LabelEncoder()\n",
    "for genre in ['Genre1', 'Genre2', 'Genre3']:\n",
    "    df[genre + '_le'] = le.fit_transform(df[genre])"
   ]
  },
  {
   "cell_type": "markdown",
   "metadata": {},
   "source": [
    "# Select Parameters"
   ]
  },
  {
   "cell_type": "code",
   "execution_count": 59,
   "metadata": {},
   "outputs": [],
   "source": [
    "# parameters for all runs\n",
    "random_state = 20\n",
    "run_cross_validation = True # whether or not to run the cross validation cell\n",
    "\n",
    "#### UNCOMMENT BELOW for genre1\n",
    "# genre = 'Genre1_le'\n",
    "# model_output_file = 'survey.genre1.pickle.dat'\n",
    "# model = XGBClassifier(random_state=random_state,\n",
    "#                       learning_rate=.1, \n",
    "#                       n_estimators=100, \n",
    "#                       objective='multi:softmax',\n",
    "#                       eval_metric='mlogloss',\n",
    "#                      max_depth=1)\n",
    "# feature_names = ['XVar15', 'XVar20','XVar22','XVar13','XVar23','XVar14','XVar21','XVar10',\n",
    "#  'XVar4','XVar6','XVar11','XVar9','XVar17','XVar12','XVar3','XVar8','XVar1','XVar2'] \n",
    "####\n",
    "\n",
    "#### UNCOMMENT BELOW for genre2\n",
    "# genre = 'Genre2_le'\n",
    "# model_output_file = 'survey.genre2.pickle.dat'\n",
    "# model = XGBClassifier(random_state=random_state,\n",
    "#                       learning_rate=.1, \n",
    "#                       n_estimators=100, \n",
    "#                       objective='multi:softmax',\n",
    "#                       eval_metric='mlogloss',\n",
    "#                      max_depth=1)\n",
    "# feature_names = ['XVar15', 'XVar20','XVar22','XVar13','XVar23','XVar14','XVar21','XVar10',\n",
    "#  'XVar4','XVar6','XVar11','XVar9','XVar17','XVar12','XVar3','XVar8','XVar1','XVar2']\n",
    "\n",
    "###\n",
    "\n",
    "#### UNCOMMENT BELOW for genre3\n",
    "genre = 'Genre3_le'\n",
    "model_output_file = 'survey.genre3.pickle.dat'\n",
    "model = XGBClassifier(random_state=random_state,\n",
    "                      learning_rate=.3, \n",
    "                      n_estimators=100, \n",
    "                      objective='multi:softmax',\n",
    "                      eval_metric='mlogloss',\n",
    "                     max_depth=1, subsample=.8)\n",
    "feature_names = ['XVar5','XVar7','XVar16','XVar17','XVar18', 'XVar19', \n",
    "                 'XVar15', 'XVar20','XVar22','XVar13','XVar23','XVar14','XVar21','XVar10',\n",
    "                 'XVar4','XVar6','XVar11','XVar9','XVar17','XVar12','XVar3',\n",
    "                 'XVar8','XVar1','XVar2']\n",
    "\n",
    "####\n",
    "\n",
    "#### UNCOMMENT BELOW for genre4\n",
    "# genre = 'Genre4' # can be Genre1, Genre2, Genre3, or Genre4\n",
    "# model_output_file = 'survey.genre4.pickle.dat'\n",
    "# model = XGBClassifier(random_state=random_state,\n",
    "#                       learning_rate=.2, \n",
    "#                       n_estimators=400, \n",
    "#                       objective='binary:logistic',\n",
    "#                       eval_metric='logloss',\n",
    "#                      max_depth=1)\n",
    "\n",
    "# feature_names = ['XVar4','XVar6','XVar19','XVar5','XVar13','XVar3','XVar8','XVar1','XVar2']\n",
    "####"
   ]
  },
  {
   "cell_type": "code",
   "execution_count": 60,
   "metadata": {},
   "outputs": [],
   "source": [
    "### \n",
    "# index of variables that are categorical \n",
    "# make sure that XVar1, XVar2, and XVar8 are the last three values in the feature_names list\n",
    "##\n",
    "categorical_index = [x for x in range(0,len(feature_names)-3)] "
   ]
  },
  {
   "cell_type": "markdown",
   "metadata": {},
   "source": [
    "# Prepare Data"
   ]
  },
  {
   "cell_type": "code",
   "execution_count": 61,
   "metadata": {},
   "outputs": [],
   "source": [
    "# get features and response variables\n",
    "# * categorical variables - Genre1, Genre2, Genre3, Genre4\n",
    "# * continuous variables - XVar1, XVar2, XVar8\n",
    "# * multinomial variables - XVar3, XVar4, XVar6, Xvar9, XVar10, XVar11 \n",
    "# * binary variables - XVar5, XVar7, XVar12 to Xvar 19, XVar20 to XVar 23\n",
    "\n",
    "# split data into features and target variables\n",
    "X = df.loc[:,feature_names].values\n",
    "y = df.loc[:,[genre]].values.ravel()"
   ]
  },
  {
   "cell_type": "code",
   "execution_count": 62,
   "metadata": {},
   "outputs": [],
   "source": [
    "# split data into stratified training and test set 80/20 split\n",
    "X_training, X_testing, y_training, y_testing = train_test_split(X, \n",
    "                                                                y, \n",
    "                                                                test_size=0.2, \n",
    "                                                                random_state=random_state,\n",
    "                                                               stratify=y)"
   ]
  },
  {
   "cell_type": "code",
   "execution_count": 63,
   "metadata": {},
   "outputs": [],
   "source": [
    "# reports the confusion matrix with proper labels\n",
    "# this makes it easier to see precision/recall for each rating\n",
    "\n",
    "def report(model, X, y):\n",
    "    model.predict(X)\n",
    "    confusion = pd.DataFrame(confusion_matrix(y, model.predict(X).astype(str), labels=labels),\n",
    "                             index=labels, columns=labels)\n",
    "    return confusion"
   ]
  },
  {
   "cell_type": "markdown",
   "metadata": {},
   "source": [
    "# Cross-Validate\n",
    "\n",
    "Need to use contingency tables (predictions vs actual values) and precision and recall. Otherwise "
   ]
  },
  {
   "cell_type": "code",
   "execution_count": 1,
   "metadata": {},
   "outputs": [
    {
     "ename": "NameError",
     "evalue": "name 'np' is not defined",
     "output_type": "error",
     "traceback": [
      "\u001b[0;31m---------------------------------------------------------------------------\u001b[0m",
      "\u001b[0;31mNameError\u001b[0m                                 Traceback (most recent call last)",
      "\u001b[0;32m<ipython-input-1-8904fc5a699c>\u001b[0m in \u001b[0;36m<module>\u001b[0;34m()\u001b[0m\n\u001b[1;32m      1\u001b[0m \u001b[0;31m# get distinct values for genre ratings\u001b[0m\u001b[0;34m\u001b[0m\u001b[0;34m\u001b[0m\u001b[0m\n\u001b[0;32m----> 2\u001b[0;31m \u001b[0mlabels\u001b[0m \u001b[0;34m=\u001b[0m \u001b[0mnp\u001b[0m\u001b[0;34m.\u001b[0m\u001b[0msort\u001b[0m\u001b[0;34m(\u001b[0m\u001b[0mdf\u001b[0m\u001b[0;34m[\u001b[0m\u001b[0mgenre\u001b[0m\u001b[0;34m]\u001b[0m\u001b[0;34m.\u001b[0m\u001b[0munique\u001b[0m\u001b[0;34m(\u001b[0m\u001b[0;34m)\u001b[0m\u001b[0;34m)\u001b[0m\u001b[0;34m.\u001b[0m\u001b[0mastype\u001b[0m\u001b[0;34m(\u001b[0m\u001b[0mstr\u001b[0m\u001b[0;34m)\u001b[0m\u001b[0;34m\u001b[0m\u001b[0m\n\u001b[0m\u001b[1;32m      3\u001b[0m \u001b[0;34m\u001b[0m\u001b[0m\n\u001b[1;32m      4\u001b[0m \u001b[0;31m# run cross validation\u001b[0m\u001b[0;34m\u001b[0m\u001b[0;34m\u001b[0m\u001b[0m\n\u001b[1;32m      5\u001b[0m \u001b[0;31m# TODO: Use GridSearch to automatically choose best parameters\u001b[0m\u001b[0;34m\u001b[0m\u001b[0;34m\u001b[0m\u001b[0m\n",
      "\u001b[0;31mNameError\u001b[0m: name 'np' is not defined"
     ]
    }
   ],
   "source": [
    "# get distinct values for genre ratings\n",
    "labels = np.sort(df[genre].unique()).astype(str)\n",
    "\n",
    "# run cross validation\n",
    "# TODO: Use GridSearch to automatically choose best parameters\n",
    "if run_cross_validation:\n",
    "    skf = StratifiedKFold(n_splits=3, shuffle=True)\n",
    "\n",
    "    # cross validate results, tuning for number of trees and learning rate\n",
    "    for train_index, test_index in skf.split(X_training, y_training):\n",
    "                \n",
    "        X_train, X_test = X_training[train_index], X_training[test_index]\n",
    "        y_train, y_test = y_training[train_index], y_training[test_index]\n",
    "        \n",
    "        # oversample the train data\n",
    "        smote_nc = SMOTENC(categorical_features=categorical_index, random_state=random_state)\n",
    "        \n",
    "        X_resampled, y_resampled = smote_nc.fit_resample(X_train, y_train)\n",
    "\n",
    "        model.fit(X_resampled, y_resampled, eval_set=[(X_test, y_test)], early_stopping_rounds=10, verbose=False)\n",
    "        \n",
    "        print('results of oversampled training data')\n",
    "        print(classification_report(y_resampled.astype(str), model.predict(X_resampled).astype(str), target_names=labels))\n",
    "        \n",
    "        print('results of current fold test set')\n",
    "        print(classification_report(y_test, model.predict(X_test), target_names=labels))\n",
    "        \n",
    "        print('results on current fold training data')\n",
    "        print(report(model, X_train, y_train.astype(str)))\n",
    "        \n",
    "        print('results on current fold test set')\n",
    "        print(report(model, X_test, y_test.astype(str)))\n",
    "        \n",
    "        print('feature importances')\n",
    "        print(sorted(list(zip(model.feature_importances_, feature_names))))"
   ]
  },
  {
   "cell_type": "code",
   "execution_count": 65,
   "metadata": {},
   "outputs": [
    {
     "data": {
      "text/plain": [
       "XGBClassifier(base_score=0.5, booster='gbtree', colsample_bylevel=1,\n",
       "       colsample_bytree=1, eval_metric='mlogloss', gamma=0,\n",
       "       learning_rate=0.3, max_delta_step=0, max_depth=1,\n",
       "       min_child_weight=1, missing=None, n_estimators=100, n_jobs=1,\n",
       "       nthread=None, objective='multi:softprob', random_state=20,\n",
       "       reg_alpha=0, reg_lambda=1, scale_pos_weight=1, seed=None,\n",
       "       silent=True, subsample=0.8)"
      ]
     },
     "execution_count": 65,
     "metadata": {},
     "output_type": "execute_result"
    },
    {
     "name": "stdout",
     "output_type": "stream",
     "text": [
      "Results on training set\n",
      "              precision    recall  f1-score   support\n",
      "\n",
      "           0       0.88      0.49      0.63      3939\n",
      "           1       0.19      0.26      0.22       588\n",
      "           2       0.06      0.35      0.10       111\n",
      "           3       0.05      0.26      0.08       103\n",
      "           4       0.03      0.27      0.05        59\n",
      "\n",
      "   micro avg       0.45      0.45      0.45      4800\n",
      "   macro avg       0.24      0.33      0.22      4800\n",
      "weighted avg       0.75      0.45      0.55      4800\n",
      "\n",
      "Results on test set\n",
      "              precision    recall  f1-score   support\n",
      "\n",
      "           0       0.87      0.49      0.62       984\n",
      "           1       0.17      0.23      0.19       147\n",
      "           2       0.05      0.32      0.09        28\n",
      "           3       0.03      0.15      0.05        26\n",
      "           4       0.01      0.07      0.01        15\n",
      "\n",
      "   micro avg       0.44      0.44      0.44      1200\n",
      "   macro avg       0.23      0.25      0.19      1200\n",
      "weighted avg       0.74      0.44      0.54      1200\n",
      "\n",
      "Confusion matrix for training set\n",
      "      0    1    2    3    4\n",
      "0  1930  588  540  443  438\n",
      "1   189  154  106   69   70\n",
      "2    24   25   39    8   15\n",
      "3    34   18   13   27   11\n",
      "4    21    8    7    7   16\n",
      "Confusion matrix for test set\n",
      "     0    1    2    3    4\n",
      "0  478  151  135  106  114\n",
      "1   51   34   25   21   16\n",
      "2   11    5    9    2    1\n",
      "3    6    7    6    4    3\n",
      "4    3    5    3    3    1\n"
     ]
    }
   ],
   "source": [
    "# train model on all data and get results on test set\n",
    "\n",
    "# oversample the train data\n",
    "smote_nc = SMOTENC(categorical_features=categorical_index, random_state=random_state)\n",
    "X_resampled, y_resampled = smote_nc.fit_resample(X_training, y_training)\n",
    "\n",
    "model.fit(X_resampled, y_resampled, eval_set=[(X_testing, y_testing)], early_stopping_rounds=10, verbose=False)\n",
    "\n",
    "# show results\n",
    "print('Results on training set')\n",
    "print(classification_report(y_training, model.predict(X_training), target_names=labels))\n",
    "\n",
    "print('Results on test set')\n",
    "print(classification_report(y_testing, model.predict(X_testing), target_names=labels))\n",
    "\n",
    "print('Confusion matrix for training set')\n",
    "print(report(model, X_training, y_training.astype(str)))\n",
    "\n",
    "print('Confusion matrix for test set')\n",
    "print(report(model, X_testing, y_testing.astype(str)))"
   ]
  },
  {
   "cell_type": "markdown",
   "metadata": {},
   "source": [
    "# Save Model"
   ]
  },
  {
   "cell_type": "code",
   "execution_count": 66,
   "metadata": {},
   "outputs": [
    {
     "data": {
      "text/plain": [
       "array([[0.3696543 , 0.36839586, 0.06074886, 0.02836282, 0.17283812]],\n",
       "      dtype=float32)"
      ]
     },
     "execution_count": 66,
     "metadata": {},
     "output_type": "execute_result"
    }
   ],
   "source": [
    "# save model to file\n",
    "pickle.dump(model, open(model_output_file, \"wb\"))\n",
    "\n",
    "# check that model file loads\n",
    "loaded_model = pickle.load(open(model_output_file, \"rb\"))\n",
    "\n",
    "loaded_model.predict_proba([X_testing[0]]) # predict one a row to make sure loaded model works"
   ]
  },
  {
   "cell_type": "markdown",
   "metadata": {},
   "source": [
    "# Analyze Model"
   ]
  },
  {
   "cell_type": "code",
   "execution_count": 67,
   "metadata": {},
   "outputs": [
    {
     "data": {
      "text/plain": [
       "[(0.0, 'XVar17'),\n",
       " (0.006, 'XVar18'),\n",
       " (0.006, 'XVar21'),\n",
       " (0.01, 'XVar22'),\n",
       " (0.01, 'XVar5'),\n",
       " (0.016, 'XVar13'),\n",
       " (0.016, 'XVar16'),\n",
       " (0.02, 'XVar19'),\n",
       " (0.02, 'XVar23'),\n",
       " (0.022, 'XVar9'),\n",
       " (0.024, 'XVar14'),\n",
       " (0.026, 'XVar7'),\n",
       " (0.036, 'XVar15'),\n",
       " (0.036, 'XVar6'),\n",
       " (0.04, 'XVar12'),\n",
       " (0.052, 'XVar20'),\n",
       " (0.054, 'XVar10'),\n",
       " (0.056, 'XVar17'),\n",
       " (0.06, 'XVar2'),\n",
       " (0.066, 'XVar1'),\n",
       " (0.072, 'XVar4'),\n",
       " (0.09, 'XVar11'),\n",
       " (0.104, 'XVar3'),\n",
       " (0.158, 'XVar8')]"
      ]
     },
     "execution_count": 67,
     "metadata": {},
     "output_type": "execute_result"
    }
   ],
   "source": [
    "# see feature importances\n",
    "sorted(list(zip(model.feature_importances_, feature_names)))"
   ]
  },
  {
   "cell_type": "code",
   "execution_count": 68,
   "metadata": {},
   "outputs": [
    {
     "data": {
      "text/plain": [
       "<matplotlib.axes._subplots.AxesSubplot at 0x1a1c2057f0>"
      ]
     },
     "execution_count": 68,
     "metadata": {},
     "output_type": "execute_result"
    },
    {
     "data": {
      "image/png": "[encoded data removed]",
      "text/plain": [
       "<Figure size 5040x720 with 1 Axes>"
      ]
     },
     "metadata": {
      "needs_background": "light"
     },
     "output_type": "display_data"
    }
   ],
   "source": [
    "# plot feature importances\n",
    "xgb.plot_importance(model)\n",
    "plt.rcParams['figure.figsize'] = [10, 10]\n",
    "plt.show()"
   ]
  },
  {
   "cell_type": "code",
   "execution_count": 69,
   "metadata": {},
   "outputs": [
    {
     "data": {
      "text/plain": [
       "<matplotlib.axes._subplots.AxesSubplot at 0x1a1ca915c0>"
      ]
     },
     "execution_count": 69,
     "metadata": {},
     "output_type": "execute_result"
    },
    {
     "data": {
      "image/png": "[encoded data removed]",
      "text/plain": [
       "<Figure size 720x720 with 1 Axes>"
      ]
     },
     "metadata": {
      "needs_background": "light"
     },
     "output_type": "display_data"
    }
   ],
   "source": [
    "# plot one decision tree to see what it looks like\n",
    "xgb.plot_tree(model, num_trees=100)\n",
    "plt.rcParams['figure.figsize'] = [70, 10]\n",
    "plt.show()"
   ]
  }
 ],
 "metadata": {
  "kernelspec": {
   "display_name": "Root env",
   "language": "python",
   "name": "root"
  },
  "language_info": {
   "codemirror_mode": {
    "name": "ipython",
    "version": 3
   },
   "file_extension": ".py",
   "mimetype": "text/x-python",
   "name": "python",
   "nbconvert_exporter": "python",
   "pygments_lexer": "ipython3",
   "version": "3.7.0"
  }
 },
 "nbformat": 4,
 "nbformat_minor": 2
}
